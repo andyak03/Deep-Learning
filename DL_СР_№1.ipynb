{
 "cells": [
  {
   "cell_type": "code",
   "execution_count": 51,
   "metadata": {},
   "outputs": [],
   "source": [
    "import torch\n",
    "from torchvision import datasets, transforms\n",
    "from torch.utils.data import DataLoader, random_split\n",
    "import matplotlib.pyplot as plt\n",
    "from tqdm import tqdm\n",
    "import torch.nn as nn\n",
    "import numpy as np\n",
    "import torch.optim as optim\n",
    "from sklearn.metrics import accuracy_score\n",
    "from sklearn.metrics import confusion_matrix, classification_report\n",
    "from copy import copy\n",
    "from torch.utils.data import WeightedRandomSampler"
   ]
  },
  {
   "cell_type": "code",
   "execution_count": 49,
   "metadata": {},
   "outputs": [],
   "source": [
    "transform1 = transforms.Compose([\n",
    "    transforms.Resize([300, 300]),\n",
    "    transforms.ToTensor() \n",
    "])\n",
    "\n",
    "sea_dataset = datasets.ImageFolder(root='sea_animals', transform=transform1)\n",
    "\n",
    "train_dataset, test_dataset = random_split(sea_dataset, [0.8, 0.2])\n",
    "\n",
    "# считаем mean и std на train \n",
    "loader = DataLoader(train_dataset, batch_size=len(sea_dataset))\n",
    "data = next(iter(loader))\n",
    "mean = data[0].mean(dim=(0, 2, 3))\n",
    "std = data[0].std(dim=(0, 2, 3))\n",
    "\n",
    "train_dataset.dataset = copy(train_dataset.dataset)\n",
    "\n",
    "transform2 = transforms.Compose([\n",
    "      transforms.Resize([300, 300]),\n",
    "      transforms.Normalize(mean, std),\n",
    "      transforms.ToTensor()\n",
    "])\n",
    "\n",
    "train_dataset.dataset.transform = transform2"
   ]
  },
  {
   "cell_type": "code",
   "execution_count": 40,
   "metadata": {},
   "outputs": [
    {
     "name": "stdout",
     "output_type": "stream",
     "text": [
      "всего картинок: 2306\n",
      "размер картинок: torch.Size([3, 300, 300])\n",
      "количество классов: 6\n",
      "train_size: 1844\n",
      "test_size: 462\n"
     ]
    }
   ],
   "source": [
    "num_images = len(sea_dataset)\n",
    "print(f\"всего картинок: {num_images}\")\n",
    "\n",
    "sample_image, _ = sea_dataset[0]  \n",
    "image_size = sample_image.size()\n",
    "print(f\"размер картинок: {image_size}\")\n",
    "\n",
    "num_classes = len(sea_dataset.classes)\n",
    "print(f\"количество классов: {num_classes}\")\n",
    "\n",
    "\n",
    "train_size = int(0.8 * num_images)\n",
    "test_size = num_images - train_size\n",
    "train_dataset, test_dataset = torch.utils.data.random_split(sea_dataset, [train_size, test_size])\n",
    "\n",
    "train_loader = DataLoader(train_dataset, batch_size=50)\n",
    "test_loader = DataLoader(test_dataset, batch_size=50)\n",
    "\n",
    "print(f\"train_size: {len(train_dataset)}\")\n",
    "print(f\"test_size: {len(test_dataset)}\")"
   ]
  },
  {
   "cell_type": "code",
   "execution_count": 41,
   "metadata": {},
   "outputs": [
    {
     "name": "stdout",
     "output_type": "stream",
     "text": [
      "Доли Train:\n",
      "Dolphin: 0.1730\n",
      "Sea Rays: 0.1047\n",
      "Sea Urchins: 0.0759\n",
      "Seahorse: 0.1063\n",
      "Sharks: 0.1334\n",
      "Turtle_Tortoise: 0.4067\n",
      "\n",
      "Доли Test:\n",
      "Dolphin: 0.1558\n",
      "Sea Rays: 0.1407\n",
      "Sea Urchins: 0.0693\n",
      "Seahorse: 0.0931\n",
      "Sharks: 0.1061\n",
      "Turtle_Tortoise: 0.4351\n"
     ]
    }
   ],
   "source": [
    "train_class_counts = {class_label: 0 for class_label in sea_dataset.classes}\n",
    "for _, target in train_dataset:\n",
    "    train_class_counts[sea_dataset.classes[target]] += 1\n",
    "\n",
    "test_class_counts = {class_label: 0 for class_label in sea_dataset.classes}\n",
    "for _, target in test_dataset:\n",
    "    test_class_counts[sea_dataset.classes[target]] += 1\n",
    "\n",
    "print(\"Доли Train:\")\n",
    "for class_label, count in train_class_counts.items():\n",
    "    class_fraction = count / train_size\n",
    "    print(f\"{class_label}: {class_fraction:.4f}\")\n",
    "\n",
    "print(\"\\nДоли Test:\")\n",
    "for class_label, count in test_class_counts.items():\n",
    "    class_fraction = count / test_size\n",
    "    print(f\"{class_label}: {class_fraction:.4f}\")"
   ]
  },
  {
   "cell_type": "code",
   "execution_count": 42,
   "metadata": {},
   "outputs": [
    {
     "name": "stderr",
     "output_type": "stream",
     "text": [
      "100%|██████████| 10/10 [01:59<00:00, 11.99s/it]"
     ]
    },
    {
     "name": "stdout",
     "output_type": "stream",
     "text": [
      "Final train accuracy = 0.7098698481561823\n",
      "Final test accuracy = 0.577922077922078\n"
     ]
    },
    {
     "name": "stderr",
     "output_type": "stream",
     "text": [
      "\n"
     ]
    }
   ],
   "source": [
    "lr = 0.0001\n",
    "epochs = 10\n",
    "\n",
    "class ConvNet(nn.Module):\n",
    "    def __init__(self):\n",
    "        super().__init__()\n",
    "        self.conv = nn.Conv2d(in_channels=3, out_channels=5, kernel_size=3)\n",
    "        self.relu = nn.ReLU()\n",
    "        self.pool = nn.MaxPool2d(kernel_size=2)\n",
    "        self.flat = nn.Flatten(start_dim=1)\n",
    "        self.fc = nn.Linear(5 * 149 * 149, 6)\n",
    "\n",
    "    def forward(self, x):\n",
    "        out = self.conv(x)\n",
    "        out = self.relu(out)\n",
    "        out = self.pool(out)\n",
    "        out = self.flat(out)\n",
    "        out = self.fc(out)\n",
    "        return out\n",
    "\n",
    "model = ConvNet()\n",
    "optimizer = optim.Adam(model.parameters(), lr=lr)\n",
    "criterion = nn.CrossEntropyLoss()\n",
    "\n",
    "train_losses_list = []\n",
    "train_accuracies_list = []\n",
    "test_accuracies_list = []\n",
    "\n",
    "for epoch in tqdm(range(epochs)):\n",
    "\n",
    "    # train\n",
    "    model.train()\n",
    "    train_loss = 0.0\n",
    "    correct_train = 0\n",
    "    total_train = 0\n",
    "    \n",
    "    train_predictions_list = []\n",
    "    train_labels_list = []\n",
    "    test_predictions_list = []\n",
    "    test_labels_list = []\n",
    "\n",
    "    for images, labels in train_loader:\n",
    "        outputs = model(images)\n",
    "        loss = criterion(outputs, labels)\n",
    "        loss.backward()\n",
    "        optimizer.step()\n",
    "        optimizer.zero_grad()\n",
    "        \n",
    "        train_loss += loss.item()\n",
    "        _, predicted = torch.max(outputs.data, dim=1)\n",
    "\n",
    "        train_predictions_list.extend(predicted)\n",
    "        train_labels_list.extend(labels)\n",
    "\n",
    "    train_accuracy = accuracy_score(train_labels_list, train_predictions_list) \n",
    "    train_losses_list.append(train_loss)\n",
    "    train_accuracies_list.append(train_accuracy)\n",
    "\n",
    "    # evaluate\n",
    "    model.eval()\n",
    "    correct_test = 0\n",
    "    total_test = 0\n",
    "\n",
    "    with torch.no_grad():\n",
    "        for images, labels in test_loader:\n",
    "            outputs = model(images)\n",
    "            _, predicted = torch.max(outputs.data, dim=1)\n",
    "            test_predictions_list.extend(predicted)\n",
    "            test_labels_list.extend(labels)\n",
    "\n",
    "    test_accuracy = accuracy_score(test_labels_list, test_predictions_list) \n",
    "    test_accuracies_list.append(test_accuracy)\n",
    "\n",
    "print(f\"Final train accuracy = {train_accuracies_list[-1]}\")\n",
    "print(f\"Final test accuracy = {test_accuracies_list[-1]}\")"
   ]
  },
  {
   "cell_type": "code",
   "execution_count": 43,
   "metadata": {},
   "outputs": [
    {
     "data": {
      "image/png": "[encoded data removed]",
      "text/plain": [
       "<Figure size 1400x500 with 2 Axes>"
      ]
     },
     "metadata": {},
     "output_type": "display_data"
    }
   ],
   "source": [
    "fig, axs = plt.subplots(nrows=1, ncols=2, figsize=(14, 5))\n",
    "\n",
    "axs[0].plot(train_accuracies_list, label='train accuracy', marker='o', color='b')\n",
    "axs[0].plot(test_accuracies_list, label='test accuracy', marker='o', color='g')\n",
    "axs[0].set_xlabel('epoch')\n",
    "axs[0].set_ylabel('accuracy')\n",
    "axs[0].set_title('accuracies')\n",
    "axs[0].legend()\n",
    "\n",
    "axs[1].plot(train_losses_list, label='train loss', marker='o', color='r')\n",
    "axs[1].set_xlabel('epoch')\n",
    "axs[1].set_ylabel('loss')\n",
    "axs[1].set_title('losses')\n",
    "axs[1].legend()\n",
    "\n",
    "plt.tight_layout()\n",
    "plt.show()"
   ]
  },
  {
   "cell_type": "code",
   "execution_count": 44,
   "metadata": {},
   "outputs": [
    {
     "name": "stdout",
     "output_type": "stream",
     "text": [
      "              precision    recall  f1-score   support\n",
      "\n",
      "           0       0.68      0.75      0.71       319\n",
      "           1       0.61      0.38      0.47       193\n",
      "           2       0.85      0.56      0.67       140\n",
      "           3       0.71      0.41      0.52       196\n",
      "           4       0.65      0.62      0.63       246\n",
      "           5       0.74      0.92      0.82       750\n",
      "\n",
      "    accuracy                           0.71      1844\n",
      "   macro avg       0.71      0.60      0.64      1844\n",
      "weighted avg       0.71      0.71      0.69      1844\n",
      "\n"
     ]
    }
   ],
   "source": [
    "# train\n",
    "class_report = classification_report(train_labels_list, train_predictions_list)\n",
    "print(class_report)"
   ]
  },
  {
   "cell_type": "code",
   "execution_count": 45,
   "metadata": {},
   "outputs": [
    {
     "name": "stdout",
     "output_type": "stream",
     "text": [
      "              precision    recall  f1-score   support\n",
      "\n",
      "           0       0.47      0.78      0.59        72\n",
      "           1       0.25      0.08      0.12        65\n",
      "           2       0.79      0.34      0.48        32\n",
      "           3       0.35      0.21      0.26        43\n",
      "           4       0.38      0.33      0.35        49\n",
      "           5       0.70      0.85      0.77       201\n",
      "\n",
      "    accuracy                           0.58       462\n",
      "   macro avg       0.49      0.43      0.43       462\n",
      "weighted avg       0.54      0.58      0.54       462\n",
      "\n"
     ]
    }
   ],
   "source": [
    "# test\n",
    "class_report = classification_report(test_labels_list, test_predictions_list)\n",
    "print(class_report)"
   ]
  },
  {
   "cell_type": "code",
   "execution_count": 46,
   "metadata": {},
   "outputs": [
    {
     "name": "stdout",
     "output_type": "stream",
     "text": [
      "[[238  12   0   4  29  36]\n",
      " [ 32  73   0   9  31  48]\n",
      " [  0   2  78   3   0  57]\n",
      " [ 13   4   5  81  12  81]\n",
      " [ 46  20   0   4 152  24]\n",
      " [ 23   8   9  13  10 687]]\n"
     ]
    }
   ],
   "source": [
    "# train\n",
    "conf_matrix = confusion_matrix(train_labels_list, train_predictions_list)\n",
    "print(conf_matrix)"
   ]
  },
  {
   "cell_type": "code",
   "execution_count": 47,
   "metadata": {},
   "outputs": [
    {
     "name": "stdout",
     "output_type": "stream",
     "text": [
      "[[ 56   6   0   1   5   4]\n",
      " [ 29   5   0   3  15  13]\n",
      " [  1   0  11   1   0  19]\n",
      " [  3   1   1   9   1  28]\n",
      " [ 16   6   0   3  16   8]\n",
      " [ 13   2   2   9   5 170]]\n"
     ]
    }
   ],
   "source": [
    "# test\n",
    "conf_matrix = confusion_matrix(test_labels_list, test_predictions_list)\n",
    "print(conf_matrix)"
   ]
  },
  {
   "cell_type": "markdown",
   "metadata": {},
   "source": [
    "# WeightedRandomSampler"
   ]
  },
  {
   "cell_type": "code",
   "execution_count": 106,
   "metadata": {},
   "outputs": [],
   "source": [
    "transform1 = transforms.Compose([\n",
    "    transforms.Resize([300, 300]),\n",
    "    transforms.ToTensor() \n",
    "])\n",
    "\n",
    "sea_dataset = datasets.ImageFolder(root='sea_animals', transform=transform1)\n",
    "\n",
    "train_dataset, test_dataset = random_split(sea_dataset, [0.8, 0.2])\n",
    "\n",
    "# считаем mean и std на train \n",
    "loader = DataLoader(train_dataset, batch_size=len(sea_dataset))\n",
    "data = next(iter(loader))\n",
    "mean = data[0].mean(dim=(0, 2, 3))\n",
    "std = data[0].std(dim=(0, 2, 3))\n",
    "\n",
    "train_dataset.dataset = copy(train_dataset.dataset)\n",
    "\n",
    "transform2 = transforms.Compose([\n",
    "      transforms.Resize([300, 300]),\n",
    "      transforms.Normalize(mean, std),\n",
    "      transforms.ToTensor()\n",
    "])\n",
    "\n",
    "train_dataset.dataset.transform = transform2"
   ]
  },
  {
   "cell_type": "code",
   "execution_count": 100,
   "metadata": {},
   "outputs": [],
   "source": [
    "train_size = int(0.8 * num_images)\n",
    "test_size = num_images - train_size\n",
    "train_dataset, test_dataset = random_split(sea_dataset, [train_size, test_size])\n",
    "\n",
    "class_to_index = sea_dataset.class_to_idx\n",
    "\n",
    "train_class_counts = {idx: 0 for idx in range(len(sea_dataset.classes))}\n",
    "\n",
    "for _, target in train_dataset:\n",
    "    class_idx = class_to_index[sea_dataset.classes[target]]\n",
    "    train_class_counts[class_idx] += 1\n",
    "\n",
    "\n",
    "train_labels = [item[1] for item in train_dataset.dataset]\n",
    "weights = [1 / train_class_counts[class_label] for class_label in train_labels]\n",
    "\n",
    "sampler = WeightedRandomSampler(weights=weights, num_samples=len(train_dataset), replacement=True)\n",
    "train_loader = DataLoader(train_dataset, sampler=sampler, batch_size=50)\n",
    "test_loader = DataLoader(test_dataset, batch_size=50)"
   ]
  },
  {
   "cell_type": "code",
   "execution_count": null,
   "metadata": {},
   "outputs": [],
   "source": [
    "lr = 0.0001\n",
    "epochs = 10\n",
    "\n",
    "class ConvNet(nn.Module):\n",
    "    def __init__(self):\n",
    "        super().__init__()\n",
    "        self.conv = nn.Conv2d(in_channels=3, out_channels=5, kernel_size=3)\n",
    "        self.relu = nn.ReLU()\n",
    "        self.pool = nn.MaxPool2d(kernel_size=2)\n",
    "        self.flat = nn.Flatten(start_dim=1)\n",
    "        self.fc = nn.Linear(5 * 149 * 149, 6)\n",
    "\n",
    "    def forward(self, x):\n",
    "        out = self.conv(x)\n",
    "        out = self.relu(out)\n",
    "        out = self.pool(out)\n",
    "        out = self.flat(out)\n",
    "        out = self.fc(out)\n",
    "        return out\n",
    "\n",
    "model = ConvNet()\n",
    "optimizer = optim.Adam(model.parameters(), lr=lr)\n",
    "criterion = nn.CrossEntropyLoss()\n",
    "\n",
    "train_losses_list = []\n",
    "train_accuracies_list = []\n",
    "test_accuracies_list = []\n",
    "\n",
    "for epoch in tqdm(range(epochs)):\n",
    "\n",
    "    # train\n",
    "    model.train()\n",
    "    train_loss = 0.0\n",
    "    correct_train = 0\n",
    "    total_train = 0\n",
    "    \n",
    "    train_predictions_list = []\n",
    "    train_labels_list = []\n",
    "    test_predictions_list = []\n",
    "    test_labels_list = []\n",
    "\n",
    "    for images, labels in train_loader:\n",
    "        outputs = model(images)\n",
    "        loss = criterion(outputs, labels)\n",
    "        loss.backward()\n",
    "        optimizer.step()\n",
    "        optimizer.zero_grad()\n",
    "        \n",
    "        train_loss += loss.item()\n",
    "        _, predicted = torch.max(outputs.data, dim=1)\n",
    "\n",
    "        train_predictions_list.extend(predicted)\n",
    "        train_labels_list.extend(labels)\n",
    "\n",
    "    train_accuracy = accuracy_score(train_labels_list, train_predictions_list) \n",
    "    train_losses_list.append(train_loss)\n",
    "    train_accuracies_list.append(train_accuracy)\n",
    "\n",
    "    # evaluate\n",
    "    model.eval()\n",
    "    correct_test = 0\n",
    "    total_test = 0\n",
    "\n",
    "    with torch.no_grad():\n",
    "        for images, labels in test_loader:\n",
    "            outputs = model(images)\n",
    "            _, predicted = torch.max(outputs.data, dim=1)\n",
    "            test_predictions_list.extend(predicted)\n",
    "            test_labels_list.extend(labels)\n",
    "\n",
    "    test_accuracy = accuracy_score(test_labels_list, test_predictions_list) \n",
    "    test_accuracies_list.append(test_accuracy)\n",
    "\n",
    "print(f\"Final train accuracy = {train_accuracies_list[-1]}\")\n",
    "print(f\"Final test accuracy = {test_accuracies_list[-1]}\")"
   ]
  },
  {
   "cell_type": "code",
   "execution_count": null,
   "metadata": {},
   "outputs": [],
   "source": []
  }
 ],
 "metadata": {
  "kernelspec": {
   "display_name": ".venv",
   "language": "python",
   "name": "python3"
  },
  "language_info": {
   "codemirror_mode": {
    "name": "ipython",
    "version": 3
   },
   "file_extension": ".py",
   "mimetype": "text/x-python",
   "name": "python",
   "nbconvert_exporter": "python",
   "pygments_lexer": "ipython3",
   "version": "3.11.2"
  }
 },
 "nbformat": 4,
 "nbformat_minor": 2
}
